{
 "cells": [
  {
   "cell_type": "code",
   "execution_count": 1,
   "id": "8352691a",
   "metadata": {},
   "outputs": [
    {
     "ename": "AttributeError",
     "evalue": "'NoneType' object has no attribute 'shape'",
     "output_type": "error",
     "traceback": [
      "\u001b[1;31m---------------------------------------------------------------------------\u001b[0m",
      "\u001b[1;31mAttributeError\u001b[0m                            Traceback (most recent call last)",
      "Input \u001b[1;32mIn [1]\u001b[0m, in \u001b[0;36m<cell line: 5>\u001b[1;34m()\u001b[0m\n\u001b[0;32m      7\u001b[0m img \u001b[38;5;241m=\u001b[39m cv2\u001b[38;5;241m.\u001b[39mimread(FILE_NAME)\n\u001b[0;32m      9\u001b[0m \u001b[38;5;66;03m# Get number of pixel horizontally and vertically.\u001b[39;00m\n\u001b[1;32m---> 10\u001b[0m (height, width) \u001b[38;5;241m=\u001b[39m \u001b[43mimg\u001b[49m\u001b[38;5;241;43m.\u001b[39;49m\u001b[43mshape\u001b[49m[:\u001b[38;5;241m2\u001b[39m]\n\u001b[0;32m     12\u001b[0m \u001b[38;5;66;03m# Specify the size of image along with interpolation methods.\u001b[39;00m\n\u001b[0;32m     13\u001b[0m \u001b[38;5;66;03m# cv2.INTER_AREA is used for shrinking, whereas cv2.INTER_CUBIC\u001b[39;00m\n\u001b[0;32m     14\u001b[0m \u001b[38;5;66;03m# is used for zooming.\u001b[39;00m\n\u001b[0;32m     15\u001b[0m res \u001b[38;5;241m=\u001b[39m cv2\u001b[38;5;241m.\u001b[39mresize(img, (\u001b[38;5;28mint\u001b[39m(width \u001b[38;5;241m/\u001b[39m \u001b[38;5;241m2\u001b[39m), \u001b[38;5;28mint\u001b[39m(height \u001b[38;5;241m/\u001b[39m \u001b[38;5;241m2\u001b[39m)), interpolation \u001b[38;5;241m=\u001b[39m cv2\u001b[38;5;241m.\u001b[39mINTER_CUBIC)\n",
      "\u001b[1;31mAttributeError\u001b[0m: 'NoneType' object has no attribute 'shape'"
     ]
    }
   ],
   "source": [
    "import cv2\n",
    "import numpy as np\n",
    " \n",
    "FILE_NAME = 'volleyball.jpg'\n",
    "try:\n",
    "    # Read image from disk.\n",
    "    img = cv2.imread(FILE_NAME)\n",
    " \n",
    "    # Get number of pixel horizontally and vertically.\n",
    "    (height, width) = img.shape[:2]\n",
    " \n",
    "    # Specify the size of image along with interpolation methods.\n",
    "    # cv2.INTER_AREA is used for shrinking, whereas cv2.INTER_CUBIC\n",
    "    # is used for zooming.\n",
    "    res = cv2.resize(img, (int(width / 2), int(height / 2)), interpolation = cv2.INTER_CUBIC)\n",
    " \n",
    "    # Write image back to disk.\n",
    "    cv2.imwrite('result.jpg', res)\n",
    " \n",
    "except IOError:\n",
    "    print ('Error while reading files !!!')"
   ]
  },
  {
   "cell_type": "code",
   "execution_count": null,
   "id": "0344a080",
   "metadata": {},
   "outputs": [],
   "source": []
  },
  {
   "cell_type": "code",
   "execution_count": null,
   "id": "85bcf48d",
   "metadata": {},
   "outputs": [],
   "source": []
  }
 ],
 "metadata": {
  "kernelspec": {
   "display_name": "Python 3 (ipykernel)",
   "language": "python",
   "name": "python3"
  },
  "language_info": {
   "codemirror_mode": {
    "name": "ipython",
    "version": 3
   },
   "file_extension": ".py",
   "mimetype": "text/x-python",
   "name": "python",
   "nbconvert_exporter": "python",
   "pygments_lexer": "ipython3",
   "version": "3.9.12"
  }
 },
 "nbformat": 4,
 "nbformat_minor": 5
}
